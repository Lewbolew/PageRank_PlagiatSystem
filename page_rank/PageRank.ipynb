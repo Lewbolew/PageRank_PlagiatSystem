{
 "cells": [
  {
   "cell_type": "code",
   "execution_count": 41,
   "metadata": {},
   "outputs": [],
   "source": [
    "from file_reader import FileReader\n",
    "from csr_matrix_manager import CsrMatrixManager\n",
    "from page_rank import PageRank\n",
    "import numpy as np\n",
    "import networkx as nx"
   ]
  },
  {
   "cell_type": "code",
   "execution_count": 34,
   "metadata": {},
   "outputs": [],
   "source": [
    "FILEPATH = '/home/bohdan/homeworks/data_mining/homework2/data/web-Google.txt'\n",
    "num_iteration = 5"
   ]
  },
  {
   "cell_type": "code",
   "execution_count": 28,
   "metadata": {},
   "outputs": [],
   "source": [
    "file_reader = FileReader(FILEPATH)\n",
    "page_rank = PageRank(num_iteration)"
   ]
  },
  {
   "cell_type": "markdown",
   "metadata": {},
   "source": [
    "# Graph version\n",
    "We use python dictionary to represent graph of our data. This solution too slow. It consumes tonns of time(the computational power of my computer isn't enough to wait untill the end of the work)"
   ]
  },
  {
   "cell_type": "code",
   "execution_count": 5,
   "metadata": {},
   "outputs": [],
   "source": [
    "graph_representation, dict_orig_values = file_reader.get_graph_representation()\n",
    "page_rank.set_words_dict(graph_representation)\n",
    "res_dict = page_rank.run_dict_version()"
   ]
  },
  {
   "cell_type": "markdown",
   "metadata": {},
   "source": [
    "# Vector version\n",
    "This approach much more faster and less memory consuming. So, instead of graph representaion of the data we use compressed sparse matrix row representation. We also use vector operations to update the rank of each web page."
   ]
  },
  {
   "cell_type": "code",
   "execution_count": 29,
   "metadata": {},
   "outputs": [],
   "source": [
    "compressed_sparse_matrix, dict_orig_values = file_reader.get_csr_matrix_representation()"
   ]
  },
  {
   "cell_type": "code",
   "execution_count": 35,
   "metadata": {},
   "outputs": [],
   "source": [
    "page_rank.set_sparse_mat(compressed_sparse_matrix)"
   ]
  },
  {
   "cell_type": "code",
   "execution_count": 36,
   "metadata": {},
   "outputs": [],
   "source": [
    "res_sparse, times = page_rank.run_sparse_version()"
   ]
  },
  {
   "cell_type": "code",
   "execution_count": 37,
   "metadata": {},
   "outputs": [],
   "source": [
    "maxi = np.argmax(res_sparse)"
   ]
  },
  {
   "cell_type": "code",
   "execution_count": 40,
   "metadata": {},
   "outputs": [
    {
     "name": "stdout",
     "output_type": "stream",
     "text": [
      "Site with the biggest rank:  163075\n"
     ]
    }
   ],
   "source": [
    "print(\"Site with the biggest rank: \",\n",
    "      [x for x in dict_orig_values.keys() if dict_orig_values[x] == maxi][0])"
   ]
  },
  {
   "cell_type": "markdown",
   "metadata": {},
   "source": [
    "# Check with the NetworkX"
   ]
  },
  {
   "cell_type": "code",
   "execution_count": 43,
   "metadata": {},
   "outputs": [],
   "source": [
    "with open(FILEPATH,'r') as f:\n",
    "    edgelist = [\n",
    "        tuple(int(x)-1 for x in line.split())\n",
    "        for line in f.readlines()[4:]\n",
    "    ] "
   ]
  },
  {
   "cell_type": "code",
   "execution_count": 44,
   "metadata": {},
   "outputs": [
    {
     "name": "stdout",
     "output_type": "stream",
     "text": [
      "CPU times: user 16.8 s, sys: 2.12 s, total: 18.9 s\n",
      "Wall time: 1min 11s\n"
     ]
    }
   ],
   "source": [
    "%time g = nx.from_edgelist(edgelist, create_using=nx.DiGraph())"
   ]
  },
  {
   "cell_type": "code",
   "execution_count": null,
   "metadata": {},
   "outputs": [],
   "source": [
    "%time pr = nx.pagerank(g)"
   ]
  },
  {
   "cell_type": "code",
   "execution_count": null,
   "metadata": {},
   "outputs": [],
   "source": []
  }
 ],
 "metadata": {
  "kernelspec": {
   "display_name": "Python 3",
   "language": "python",
   "name": "python3"
  },
  "language_info": {
   "codemirror_mode": {
    "name": "ipython",
    "version": 3
   },
   "file_extension": ".py",
   "mimetype": "text/x-python",
   "name": "python",
   "nbconvert_exporter": "python",
   "pygments_lexer": "ipython3",
   "version": "3.6.3"
  }
 },
 "nbformat": 4,
 "nbformat_minor": 2
}
