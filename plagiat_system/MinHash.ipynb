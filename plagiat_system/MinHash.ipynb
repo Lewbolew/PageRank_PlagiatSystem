{
 "cells": [
  {
   "cell_type": "code",
   "execution_count": 1,
   "metadata": {},
   "outputs": [
    {
     "name": "stderr",
     "output_type": "stream",
     "text": [
      "/home/bohdan/anaconda3/lib/python3.6/importlib/_bootstrap.py:219: RuntimeWarning: numpy.dtype size changed, may indicate binary incompatibility. Expected 96, got 88\n",
      "  return f(*args, **kwds)\n"
     ]
    }
   ],
   "source": [
    "import numpy as np\n",
    "from corpusHandler import CorpusHandler\n",
    "from minHash import MinHash\n",
    "\n",
    "np.random.seed(42)"
   ]
  },
  {
   "cell_type": "code",
   "execution_count": 4,
   "metadata": {},
   "outputs": [],
   "source": [
    "corpus_hand = CorpusHandler('../data/corpus/')"
   ]
  },
  {
   "cell_type": "code",
   "execution_count": 5,
   "metadata": {},
   "outputs": [],
   "source": [
    "min_hash = MinHash(corpus_hand, 200, 'result/')"
   ]
  },
  {
   "cell_type": "code",
   "execution_count": 6,
   "metadata": {},
   "outputs": [
    {
     "data": {
      "text/plain": [
       "array([[ 9, 66, 38, ..., 38, 58, 14],\n",
       "       [68, 60, 58, ..., 23, 24, 15],\n",
       "       [70, 34, 48, ..., 48,  8, 18],\n",
       "       ...,\n",
       "       [ 8, 60, 42, ..., 42,  9,  1],\n",
       "       [50, 61, 24, ..., 24, 29, 47],\n",
       "       [68, 28, 48, ..., 24, 36,  6]], dtype=uint64)"
      ]
     },
     "execution_count": 6,
     "metadata": {},
     "output_type": "execute_result"
    }
   ],
   "source": [
    "min_hash.min_hash()"
   ]
  },
  {
   "cell_type": "code",
   "execution_count": 8,
   "metadata": {
    "scrolled": true
   },
   "outputs": [
    {
     "data": {
      "text/plain": [
       "{'g0pA_taska.txt': 'g0pB_taska.txt',\n",
       " 'g0pA_taskb.txt': 'orig_taskb.txt',\n",
       " 'g0pA_taskc.txt': 'orig_taskc.txt',\n",
       " 'g0pA_taskd.txt': 'g2pA_taskd.txt',\n",
       " 'g0pA_taske.txt': 'g2pA_taske.txt',\n",
       " 'g0pB_taska.txt': 'g0pA_taska.txt',\n",
       " 'g0pB_taskb.txt': 'g2pB_taskb.txt',\n",
       " 'g0pB_taskc.txt': 'orig_taskc.txt',\n",
       " 'g0pB_taskd.txt': 'g3pA_taskd.txt',\n",
       " 'g0pB_taske.txt': 'g2pB_taske.txt',\n",
       " 'g0pC_taska.txt': 'g0pD_taska.txt',\n",
       " 'g0pC_taskb.txt': 'g1pA_taske.txt',\n",
       " 'g0pC_taskc.txt': 'g1pD_taskc.txt',\n",
       " 'g0pC_taskd.txt': 'orig_taskd.txt',\n",
       " 'g0pC_taske.txt': 'g4pC_taske.txt',\n",
       " 'g0pD_taska.txt': 'g4pC_taska.txt',\n",
       " 'g0pD_taskb.txt': 'g0pE_taskb.txt',\n",
       " 'g0pD_taskc.txt': 'g4pB_taskc.txt',\n",
       " 'g0pD_taskd.txt': 'g0pE_taskd.txt',\n",
       " 'g0pD_taske.txt': 'g2pE_taske.txt',\n",
       " 'g0pE_taska.txt': 'orig_taska.txt',\n",
       " 'g0pE_taskb.txt': 'g0pA_taskb.txt',\n",
       " 'g0pE_taskc.txt': 'g1pD_taskc.txt',\n",
       " 'g0pE_taskd.txt': 'g2pE_taskd.txt',\n",
       " 'g0pE_taske.txt': 'g3pB_taske.txt',\n",
       " 'g1pA_taska.txt': 'g2pA_taska.txt',\n",
       " 'g1pA_taskb.txt': 'g1pD_taskb.txt',\n",
       " 'g1pA_taskc.txt': 'g0pB_taskc.txt',\n",
       " 'g1pA_taskd.txt': 'g0pC_taskd.txt',\n",
       " 'g1pA_taske.txt': 'g2pC_taske.txt',\n",
       " 'g1pB_taska.txt': 'g0pB_taska.txt',\n",
       " 'g1pB_taskb.txt': 'g2pC_taskb.txt',\n",
       " 'g1pB_taskc.txt': 'g0pB_taskc.txt',\n",
       " 'g1pB_taskd.txt': 'g4pC_taskd.txt',\n",
       " 'g1pB_taske.txt': 'g0pC_taske.txt',\n",
       " 'g1pD_taska.txt': 'g4pC_taska.txt',\n",
       " 'g1pD_taskb.txt': 'g4pD_taskb.txt',\n",
       " 'g1pD_taskc.txt': 'g0pE_taskc.txt',\n",
       " 'g1pD_taskd.txt': 'g1pB_taskd.txt',\n",
       " 'g1pD_taske.txt': 'g1pB_taske.txt',\n",
       " 'g2pA_taska.txt': 'g1pA_taska.txt',\n",
       " 'g2pA_taskb.txt': 'g1pD_taskb.txt',\n",
       " 'g2pA_taskc.txt': 'orig_taskc.txt',\n",
       " 'g2pA_taskd.txt': 'g0pC_taskd.txt',\n",
       " 'g2pA_taske.txt': 'g0pA_taske.txt',\n",
       " 'g2pB_taska.txt': 'g4pB_taska.txt',\n",
       " 'g2pB_taskb.txt': 'g2pC_taskb.txt',\n",
       " 'g2pB_taskc.txt': 'g0pD_taskc.txt',\n",
       " 'g2pB_taskd.txt': 'orig_taskd.txt',\n",
       " 'g2pB_taske.txt': 'orig_taske.txt',\n",
       " 'g2pC_taska.txt': 'g4pC_taska.txt',\n",
       " 'g2pC_taskb.txt': 'g1pB_taskb.txt',\n",
       " 'g2pC_taskc.txt': 'g0pB_taskc.txt',\n",
       " 'g2pC_taskd.txt': 'g2pA_taskd.txt',\n",
       " 'g2pC_taske.txt': 'g1pD_taske.txt',\n",
       " 'g2pE_taska.txt': 'orig_taska.txt',\n",
       " 'g2pE_taskb.txt': 'g4pE_taskb.txt',\n",
       " 'g2pE_taskc.txt': 'g0pA_taskb.txt',\n",
       " 'g2pE_taskd.txt': 'g4pD_taskd.txt',\n",
       " 'g2pE_taske.txt': 'g0pA_taske.txt',\n",
       " 'g3pA_taska.txt': 'g4pE_taska.txt',\n",
       " 'g3pA_taskb.txt': 'orig_taskb.txt',\n",
       " 'g3pA_taskc.txt': 'g0pB_taskc.txt',\n",
       " 'g3pA_taskd.txt': 'orig_taskd.txt',\n",
       " 'g3pA_taske.txt': 'g1pA_taske.txt',\n",
       " 'g3pB_taska.txt': 'g1pA_taska.txt',\n",
       " 'g3pB_taskb.txt': 'g0pC_taskc.txt',\n",
       " 'g3pB_taskc.txt': 'orig_taskc.txt',\n",
       " 'g3pB_taskd.txt': 'g0pC_taskd.txt',\n",
       " 'g3pB_taske.txt': 'g0pE_taske.txt',\n",
       " 'g3pC_taska.txt': 'g4pC_taska.txt',\n",
       " 'g3pC_taskb.txt': 'g0pE_taskb.txt',\n",
       " 'g3pC_taskc.txt': 'g1pD_taskc.txt',\n",
       " 'g3pC_taskd.txt': 'g2pC_taskd.txt',\n",
       " 'g3pC_taske.txt': 'g0pE_taske.txt',\n",
       " 'g4pB_taska.txt': 'g2pB_taska.txt',\n",
       " 'g4pB_taskb.txt': 'g4pC_taskb.txt',\n",
       " 'g4pB_taskc.txt': 'orig_taskc.txt',\n",
       " 'g4pB_taskd.txt': 'g3pA_taskd.txt',\n",
       " 'g4pB_taske.txt': 'orig_taske.txt',\n",
       " 'g4pC_taska.txt': 'orig_taska.txt',\n",
       " 'g4pC_taskb.txt': 'g4pB_taskb.txt',\n",
       " 'g4pC_taskc.txt': 'g0pE_taskc.txt',\n",
       " 'g4pC_taskd.txt': 'orig_taskd.txt',\n",
       " 'g4pC_taske.txt': 'g2pB_taske.txt',\n",
       " 'g4pD_taska.txt': 'g0pE_taska.txt',\n",
       " 'g4pD_taskb.txt': 'g1pD_taskb.txt',\n",
       " 'g4pD_taskc.txt': 'g4pE_taskc.txt',\n",
       " 'g4pD_taskd.txt': 'g2pE_taskd.txt',\n",
       " 'g4pD_taske.txt': 'g4pB_taske.txt',\n",
       " 'g4pE_taska.txt': 'g1pD_taska.txt',\n",
       " 'g4pE_taskb.txt': 'orig_taskb.txt',\n",
       " 'g4pE_taskc.txt': 'g0pB_taskc.txt',\n",
       " 'g4pE_taskd.txt': 'g4pD_taskc.txt',\n",
       " 'g4pE_taske.txt': 'g0pC_taske.txt',\n",
       " 'orig_taska.txt': 'g0pE_taska.txt',\n",
       " 'orig_taskb.txt': 'g0pA_taskb.txt',\n",
       " 'orig_taskc.txt': 'g0pB_taskc.txt',\n",
       " 'orig_taskd.txt': 'g3pA_taskd.txt',\n",
       " 'orig_taske.txt': 'g4pB_taske.txt'}"
      ]
     },
     "execution_count": 8,
     "metadata": {},
     "output_type": "execute_result"
    }
   ],
   "source": [
    "min_hash.get_plagiat_pairs()"
   ]
  },
  {
   "cell_type": "code",
   "execution_count": 10,
   "metadata": {},
   "outputs": [],
   "source": [
    "min_hash.to_txt()"
   ]
  },
  {
   "cell_type": "code",
   "execution_count": null,
   "metadata": {},
   "outputs": [],
   "source": []
  }
 ],
 "metadata": {
  "kernelspec": {
   "display_name": "Python 3",
   "language": "python",
   "name": "python3"
  },
  "language_info": {
   "codemirror_mode": {
    "name": "ipython",
    "version": 3
   },
   "file_extension": ".py",
   "mimetype": "text/x-python",
   "name": "python",
   "nbconvert_exporter": "python",
   "pygments_lexer": "ipython3",
   "version": "3.6.3"
  }
 },
 "nbformat": 4,
 "nbformat_minor": 2
}
